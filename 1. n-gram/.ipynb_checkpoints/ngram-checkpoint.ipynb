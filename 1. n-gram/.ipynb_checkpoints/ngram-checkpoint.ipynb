{
 "cells": [
  {
   "cell_type": "code",
   "execution_count": 142,
   "metadata": {},
   "outputs": [],
   "source": [
    "import json\n",
    "import re"
   ]
  },
  {
   "cell_type": "code",
   "execution_count": 143,
   "metadata": {},
   "outputs": [],
   "source": [
    "DATASET_DIR = './WebNews.json'\n",
    "with open(DATASET_DIR) as f:\n",
    "    dataset = json.load(f)"
   ]
  },
  {
   "cell_type": "code",
   "execution_count": 144,
   "metadata": {},
   "outputs": [],
   "source": [
    "seg_list = list(map(lambda d: d['detailcontent'], dataset))"
   ]
  },
  {
   "cell_type": "code",
   "execution_count": 145,
   "metadata": {},
   "outputs": [],
   "source": [
    "rule = re.compile(r\"[^\\u4e00-\\u9fa5]\")\n",
    "line = rule.sub('', ''.join(seg_list))"
   ]
  },
  {
   "cell_type": "code",
   "execution_count": 147,
   "metadata": {},
   "outputs": [],
   "source": [
    "# coding: utf-8\n",
    "from collections import Counter, namedtuple\n",
    "import re\n",
    "import pandas as pd\n",
    "import numpy as np\n",
    "\n",
    "def ngram(data, N=2):\n",
    "    \n",
    "    split_words = list(data)\n",
    "    \n",
    "    # 計算分子\n",
    "    total_grams = list()\n",
    "    [total_grams.append(tuple(split_words[i:i+N])) for i in range(len(split_words)-N+1)]\n",
    "    # 計算分母\n",
    "    words = list()\n",
    "    [words.append(tuple(split_words[i:i+N-1])) for i in range(len(split_words)-N+2)]\n",
    "\n",
    "        \n",
    "    ngram_prediction = dict()\n",
    "    total_word_counter = Counter(total_grams)\n",
    "    word_counter = Counter(words)\n",
    "    \n",
    "    Word = namedtuple('Word', ['word', 'prob'])\n",
    "    for key in total_word_counter:\n",
    "        word = ''.join(key[:N-1])\n",
    "        if word not in ngram_prediction:\n",
    "            ngram_prediction.update({word: []})\n",
    "        \n",
    "        w = Word(key[-1], '{:.3g}'.format(total_word_counter[key]/word_counter[key[:N-1]]))\n",
    "        ngram_prediction[word].append(w)\n",
    "        \n",
    "    return ngram_prediction"
   ]
  },
  {
   "cell_type": "code",
   "execution_count": 148,
   "metadata": {},
   "outputs": [],
   "source": [
    "# unigram = ngram(line, N=1)\n",
    "\n",
    "# bigram_prediction = ngram(line, N=2)\n",
    "\n",
    "# for ng in bigram_prediction.values():\n",
    "#     ng.sort(key=lambda x: x.prob, reverse=True)\n",
    "\n",
    "tri_prediction = ngram(line, N=3)\n",
    "\n",
    "for ng in tri_prediction.values():\n",
    "    ng.sort(key=lambda x: x.prob, reverse=True)"
   ]
  },
  {
   "cell_type": "code",
   "execution_count": 149,
   "metadata": {},
   "outputs": [],
   "source": [
    "corpus = '韓國'\n",
    "corpus_len = 25\n",
    "for i in range(corpus_len):\n",
    "    last_word = corpus[-2:]\n",
    "    next_word = tri_prediction[last_word][0].word\n",
    "    corpus += next_word"
   ]
  },
  {
   "cell_type": "code",
   "execution_count": 150,
   "metadata": {},
   "outputs": [
    {
     "data": {
      "text/plain": [
       "'韓國仁川亞運跆拳道訓練中心等設施讓市民朋友更多活動中心'"
      ]
     },
     "execution_count": 150,
     "metadata": {},
     "output_type": "execute_result"
    }
   ],
   "source": [
    "corpus"
   ]
  }
 ],
 "metadata": {
  "kernelspec": {
   "display_name": "Python 3",
   "language": "python",
   "name": "python3"
  },
  "language_info": {
   "codemirror_mode": {
    "name": "ipython",
    "version": 3
   },
   "file_extension": ".py",
   "mimetype": "text/x-python",
   "name": "python",
   "nbconvert_exporter": "python",
   "pygments_lexer": "ipython3",
   "version": "3.6.6"
  }
 },
 "nbformat": 4,
 "nbformat_minor": 2
}
